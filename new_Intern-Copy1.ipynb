{
 "cells": [
  {
   "cell_type": "code",
   "execution_count": 1,
   "id": "9383d661",
   "metadata": {},
   "outputs": [],
   "source": [
    "import numpy as np\n",
    "import pandas as pd\n",
    "import matplotlib.pyplot as plt\n",
    "import seaborn as sns\n",
    "from datetime import datetime, date"
   ]
  },
  {
   "cell_type": "code",
   "execution_count": 2,
   "id": "68fd7e58",
   "metadata": {},
   "outputs": [],
   "source": [
    "data = pd.read_csv('Data_side-effects.csv')"
   ]
  },
  {
   "cell_type": "code",
   "execution_count": 3,
   "id": "eb470201",
   "metadata": {},
   "outputs": [
    {
     "data": {
      "text/html": [
       "<div>\n",
       "<style scoped>\n",
       "    .dataframe tbody tr th:only-of-type {\n",
       "        vertical-align: middle;\n",
       "    }\n",
       "\n",
       "    .dataframe tbody tr th {\n",
       "        vertical-align: top;\n",
       "    }\n",
       "\n",
       "    .dataframe thead th {\n",
       "        text-align: right;\n",
       "    }\n",
       "</style>\n",
       "<table border=\"1\" class=\"dataframe\">\n",
       "  <thead>\n",
       "    <tr style=\"text-align: right;\">\n",
       "      <th></th>\n",
       "      <th>NAME</th>\n",
       "      <th>GENDER</th>\n",
       "      <th>DRUG NAME</th>\n",
       "      <th>AGE</th>\n",
       "      <th>RACE</th>\n",
       "      <th>SIDE EFFECTS</th>\n",
       "    </tr>\n",
       "  </thead>\n",
       "  <tbody>\n",
       "    <tr>\n",
       "      <th>0</th>\n",
       "      <td>Aaban</td>\n",
       "      <td>M</td>\n",
       "      <td>topamax</td>\n",
       "      <td>41.0</td>\n",
       "      <td>White</td>\n",
       "      <td>Mild Side Effects</td>\n",
       "    </tr>\n",
       "    <tr>\n",
       "      <th>1</th>\n",
       "      <td>Aaban</td>\n",
       "      <td>M</td>\n",
       "      <td>zocor</td>\n",
       "      <td>53.0</td>\n",
       "      <td>Hispanic, White</td>\n",
       "      <td>Extremely Severe Side Effects</td>\n",
       "    </tr>\n",
       "    <tr>\n",
       "      <th>2</th>\n",
       "      <td>Aabha</td>\n",
       "      <td>F</td>\n",
       "      <td>tazorac</td>\n",
       "      <td>31.0</td>\n",
       "      <td>White</td>\n",
       "      <td>Mild Side Effects</td>\n",
       "    </tr>\n",
       "    <tr>\n",
       "      <th>3</th>\n",
       "      <td>Aabha</td>\n",
       "      <td>F</td>\n",
       "      <td>voltaren</td>\n",
       "      <td>44.0</td>\n",
       "      <td>White</td>\n",
       "      <td>Severe Side Effects</td>\n",
       "    </tr>\n",
       "    <tr>\n",
       "      <th>4</th>\n",
       "      <td>Aabid</td>\n",
       "      <td>M</td>\n",
       "      <td>tramadol</td>\n",
       "      <td>24.0</td>\n",
       "      <td>White</td>\n",
       "      <td>No Side Effects</td>\n",
       "    </tr>\n",
       "  </tbody>\n",
       "</table>\n",
       "</div>"
      ],
      "text/plain": [
       "    NAME GENDER DRUG NAME   AGE             RACE  \\\n",
       "0  Aaban      M   topamax  41.0            White   \n",
       "1  Aaban      M     zocor  53.0  Hispanic, White   \n",
       "2  Aabha      F   tazorac  31.0            White   \n",
       "3  Aabha      F  voltaren  44.0            White   \n",
       "4  Aabid      M  tramadol  24.0            White   \n",
       "\n",
       "                    SIDE EFFECTS  \n",
       "0              Mild Side Effects  \n",
       "1  Extremely Severe Side Effects  \n",
       "2              Mild Side Effects  \n",
       "3            Severe Side Effects  \n",
       "4                No Side Effects  "
      ]
     },
     "execution_count": 3,
     "metadata": {},
     "output_type": "execute_result"
    }
   ],
   "source": [
    "data.head()"
   ]
  },
  {
   "cell_type": "code",
   "execution_count": 4,
   "id": "08a8a96e",
   "metadata": {},
   "outputs": [
    {
     "data": {
      "text/plain": [
       "(400000, 6)"
      ]
     },
     "execution_count": 4,
     "metadata": {},
     "output_type": "execute_result"
    }
   ],
   "source": [
    "data.shape"
   ]
  },
  {
   "cell_type": "code",
   "execution_count": 5,
   "id": "442e358d",
   "metadata": {},
   "outputs": [
    {
     "data": {
      "text/plain": [
       "<function matplotlib.pyplot.show(close=None, block=None)>"
      ]
     },
     "execution_count": 5,
     "metadata": {},
     "output_type": "execute_result"
    },
    {
     "data": {
      "image/png": "[encoded data removed]",
      "text/plain": [
       "<Figure size 432x288 with 1 Axes>"
      ]
     },
     "metadata": {
      "needs_background": "light"
     },
     "output_type": "display_data"
    }
   ],
   "source": [
    "data['DRUG NAME'].value_counts().head(15).plot(kind='bar')\n",
    "#plt.rcParams['figure.figsize']=(15,7)\n",
    "plt.show"
   ]
  },
  {
   "cell_type": "markdown",
   "id": "02c02dfa",
   "metadata": {},
   "source": [
    "**Inference**"
   ]
  },
  {
   "cell_type": "markdown",
   "id": "6f5286f4",
   "metadata": {},
   "source": [
    "paxil is most used drug"
   ]
  },
  {
   "cell_type": "code",
   "execution_count": 6,
   "id": "96f44709",
   "metadata": {},
   "outputs": [
    {
     "data": {
      "text/plain": [
       "<function matplotlib.pyplot.show(close=None, block=None)>"
      ]
     },
     "execution_count": 6,
     "metadata": {},
     "output_type": "execute_result"
    },
    {
     "data": {
      "image/png": "[encoded data removed]",
      "text/plain": [
       "<Figure size 432x288 with 1 Axes>"
      ]
     },
     "metadata": {
      "needs_background": "light"
     },
     "output_type": "display_data"
    }
   ],
   "source": [
    "data['AGE'].value_counts().head(15).plot(kind='bar')\n",
    "plt.xlabel('AGE')\n",
    "plt.show"
   ]
  },
  {
   "cell_type": "markdown",
   "id": "59e23f2f",
   "metadata": {},
   "source": [
    "**Inference**"
   ]
  },
  {
   "cell_type": "markdown",
   "id": "4029d90b",
   "metadata": {},
   "source": [
    "The people who has age 55 is mostly present"
   ]
  },
  {
   "cell_type": "code",
   "execution_count": 7,
   "id": "9731f07b",
   "metadata": {},
   "outputs": [
    {
     "data": {
      "text/plain": [
       "<function matplotlib.pyplot.show(close=None, block=None)>"
      ]
     },
     "execution_count": 7,
     "metadata": {},
     "output_type": "execute_result"
    },
    {
     "data": {
      "image/png": "[encoded data removed]",
      "text/plain": [
       "<Figure size 432x288 with 1 Axes>"
      ]
     },
     "metadata": {},
     "output_type": "display_data"
    }
   ],
   "source": [
    "data['SIDE EFFECTS'].value_counts().plot(kind='pie')\n",
    "plt.show"
   ]
  },
  {
   "cell_type": "markdown",
   "id": "79648e0f",
   "metadata": {},
   "source": [
    "**Inference**"
   ]
  },
  {
   "cell_type": "code",
   "execution_count": 8,
   "id": "a2fb381a",
   "metadata": {},
   "outputs": [
    {
     "data": {
      "text/plain": [
       "Text(0.5, 1.0, 'GENDER COUNT')"
      ]
     },
     "execution_count": 8,
     "metadata": {},
     "output_type": "execute_result"
    },
    {
     "data": {
      "image/png": "[encoded data removed]",
      "text/plain": [
       "<Figure size 432x432 with 1 Axes>"
      ]
     },
     "metadata": {
      "needs_background": "light"
     },
     "output_type": "display_data"
    }
   ],
   "source": [
    "data[\"GENDER\"].value_counts()\n",
    "plt.figure(figsize=(6,6))\n",
    "sns.countplot(x='GENDER',hue='GENDER',data=data,palette=\"PuBuGn_r\")\n",
    "plt.title(\"GENDER COUNT\",fontsize=18 )\n",
    "#plt.xticks(rotation=45)"
   ]
  },
  {
   "cell_type": "markdown",
   "id": "a7ef6278",
   "metadata": {},
   "source": [
    "from the Gender count we can see that highest counts are Females which are much more than males in this dataset"
   ]
  },
  {
   "cell_type": "code",
   "execution_count": 9,
   "id": "a66628d5",
   "metadata": {},
   "outputs": [
    {
     "data": {
      "text/plain": [
       "White              314074\n",
       "Hispanic, White     44072\n",
       "Black               35845\n",
       "Unknown              3046\n",
       "Hispanic, Black      1673\n",
       "Other                1010\n",
       "Asian, Other          168\n",
       "Asian Indian          104\n",
       "Chinese                 8\n",
       "Name: RACE, dtype: int64"
      ]
     },
     "execution_count": 9,
     "metadata": {},
     "output_type": "execute_result"
    }
   ],
   "source": [
    "#Checking value counts of \"RACE\"\n",
    "data[\"RACE\"].value_counts()"
   ]
  },
  {
   "cell_type": "code",
   "execution_count": 10,
   "id": "b709a412",
   "metadata": {},
   "outputs": [
    {
     "data": {
      "text/plain": [
       "(array([0, 1, 2, 3, 4, 5, 6, 7, 8]),\n",
       " [Text(0, 0, 'White'),\n",
       "  Text(1, 0, 'Hispanic, White'),\n",
       "  Text(2, 0, 'Unknown'),\n",
       "  Text(3, 0, 'Black'),\n",
       "  Text(4, 0, 'Other'),\n",
       "  Text(5, 0, 'Hispanic, Black'),\n",
       "  Text(6, 0, 'Asian, Other'),\n",
       "  Text(7, 0, 'Asian Indian'),\n",
       "  Text(8, 0, 'Chinese')])"
      ]
     },
     "execution_count": 10,
     "metadata": {},
     "output_type": "execute_result"
    },
    {
     "data": {
      "image/png": "[encoded data removed]",
      "text/plain": [
       "<Figure size 1080x576 with 1 Axes>"
      ]
     },
     "metadata": {
      "needs_background": "light"
     },
     "output_type": "display_data"
    }
   ],
   "source": [
    "data[\"RACE\"].value_counts()\n",
    "plt.figure(figsize=(15,8))\n",
    "sns.countplot(x='RACE',hue='RACE',data=data)\n",
    "plt.title(\"RACE COUNT\",fontsize=18 )\n",
    "plt.xticks(rotation=45)"
   ]
  },
  {
   "cell_type": "markdown",
   "id": "7505ac03",
   "metadata": {},
   "source": [
    "According to the value counts of \"RACE\", white categorized peoples are taken the most drugs consuming for their treatments and the chinese are the least."
   ]
  },
  {
   "cell_type": "code",
   "execution_count": 11,
   "id": "761d08b9",
   "metadata": {},
   "outputs": [
    {
     "data": {
      "text/plain": [
       "(array([0, 1, 2, 3, 4]),\n",
       " [Text(0, 0, 'Mild Side Effects'),\n",
       "  Text(1, 0, 'Extremely Severe Side Effects'),\n",
       "  Text(2, 0, 'Severe Side Effects'),\n",
       "  Text(3, 0, 'No Side Effects'),\n",
       "  Text(4, 0, 'Moderate Side Effects')])"
      ]
     },
     "execution_count": 11,
     "metadata": {},
     "output_type": "execute_result"
    },
    {
     "data": {
      "image/png": "[encoded data removed]",
      "text/plain": [
       "<Figure size 1080x576 with 1 Axes>"
      ]
     },
     "metadata": {
      "needs_background": "light"
     },
     "output_type": "display_data"
    }
   ],
   "source": [
    "data[\"SIDE EFFECTS\"].value_counts()\n",
    "plt.figure(figsize=(15,8))\n",
    "sns.countplot(x='SIDE EFFECTS',hue='SIDE EFFECTS',data=data)\n",
    "plt.title(\"SIDE EFFECTS COUNT\",fontsize=18 )\n",
    "plt.xticks(rotation=45)"
   ]
  },
  {
   "cell_type": "markdown",
   "id": "6ca8572c",
   "metadata": {},
   "source": [
    " According to the \"side effects\" count, Mild Side Effects are top most side effects which found basis of the EDA on this Side effects column"
   ]
  },
  {
   "cell_type": "code",
   "execution_count": 12,
   "id": "fc2b008a",
   "metadata": {},
   "outputs": [],
   "source": [
    "data['SIDE EFFECTS'].replace({'No Side Effects':0, 'Mild Side Effects':1, 'Moderate Side Effects':2, 'Severe Side Effects':3, 'Extremely Severe Side Effects':4}, inplace=True)"
   ]
  },
  {
   "cell_type": "markdown",
   "id": "3dd74d3a",
   "metadata": {},
   "source": [
    "# Highly affecting drugs"
   ]
  },
  {
   "cell_type": "code",
   "execution_count": 13,
   "id": "6c58a327",
   "metadata": {},
   "outputs": [],
   "source": [
    "# Create a new column called based on the value of another column\n",
    "# np.where assigns True if gapminder.lifeExp>=50 \n",
    "data['Drug_clss'] = np.where(data['SIDE EFFECTS'] >= 3, True, False)"
   ]
  },
  {
   "cell_type": "code",
   "execution_count": 14,
   "id": "deade089",
   "metadata": {},
   "outputs": [
    {
     "data": {
      "text/html": [
       "<div>\n",
       "<style scoped>\n",
       "    .dataframe tbody tr th:only-of-type {\n",
       "        vertical-align: middle;\n",
       "    }\n",
       "\n",
       "    .dataframe tbody tr th {\n",
       "        vertical-align: top;\n",
       "    }\n",
       "\n",
       "    .dataframe thead th {\n",
       "        text-align: right;\n",
       "    }\n",
       "</style>\n",
       "<table border=\"1\" class=\"dataframe\">\n",
       "  <thead>\n",
       "    <tr style=\"text-align: right;\">\n",
       "      <th></th>\n",
       "      <th>NAME</th>\n",
       "      <th>GENDER</th>\n",
       "      <th>DRUG NAME</th>\n",
       "      <th>AGE</th>\n",
       "      <th>RACE</th>\n",
       "      <th>SIDE EFFECTS</th>\n",
       "      <th>Drug_clss</th>\n",
       "    </tr>\n",
       "  </thead>\n",
       "  <tbody>\n",
       "    <tr>\n",
       "      <th>0</th>\n",
       "      <td>Aaban</td>\n",
       "      <td>M</td>\n",
       "      <td>topamax</td>\n",
       "      <td>41.0</td>\n",
       "      <td>White</td>\n",
       "      <td>1</td>\n",
       "      <td>False</td>\n",
       "    </tr>\n",
       "    <tr>\n",
       "      <th>1</th>\n",
       "      <td>Aaban</td>\n",
       "      <td>M</td>\n",
       "      <td>zocor</td>\n",
       "      <td>53.0</td>\n",
       "      <td>Hispanic, White</td>\n",
       "      <td>4</td>\n",
       "      <td>True</td>\n",
       "    </tr>\n",
       "    <tr>\n",
       "      <th>2</th>\n",
       "      <td>Aabha</td>\n",
       "      <td>F</td>\n",
       "      <td>tazorac</td>\n",
       "      <td>31.0</td>\n",
       "      <td>White</td>\n",
       "      <td>1</td>\n",
       "      <td>False</td>\n",
       "    </tr>\n",
       "    <tr>\n",
       "      <th>3</th>\n",
       "      <td>Aabha</td>\n",
       "      <td>F</td>\n",
       "      <td>voltaren</td>\n",
       "      <td>44.0</td>\n",
       "      <td>White</td>\n",
       "      <td>3</td>\n",
       "      <td>True</td>\n",
       "    </tr>\n",
       "    <tr>\n",
       "      <th>4</th>\n",
       "      <td>Aabid</td>\n",
       "      <td>M</td>\n",
       "      <td>tramadol</td>\n",
       "      <td>24.0</td>\n",
       "      <td>White</td>\n",
       "      <td>0</td>\n",
       "      <td>False</td>\n",
       "    </tr>\n",
       "  </tbody>\n",
       "</table>\n",
       "</div>"
      ],
      "text/plain": [
       "    NAME GENDER DRUG NAME   AGE             RACE  SIDE EFFECTS  Drug_clss\n",
       "0  Aaban      M   topamax  41.0            White             1      False\n",
       "1  Aaban      M     zocor  53.0  Hispanic, White             4       True\n",
       "2  Aabha      F   tazorac  31.0            White             1      False\n",
       "3  Aabha      F  voltaren  44.0            White             3       True\n",
       "4  Aabid      M  tramadol  24.0            White             0      False"
      ]
     },
     "execution_count": 14,
     "metadata": {},
     "output_type": "execute_result"
    }
   ],
   "source": [
    "data.head()"
   ]
  },
  {
   "cell_type": "code",
   "execution_count": 15,
   "id": "b728aea8",
   "metadata": {},
   "outputs": [
    {
     "data": {
      "text/plain": [
       "Text(0.5, 1.0, 'Highly affecting drugs vs low affecting')"
      ]
     },
     "execution_count": 15,
     "metadata": {},
     "output_type": "execute_result"
    },
    {
     "data": {
      "image/png": "[encoded data removed]",
      "text/plain": [
       "<Figure size 432x432 with 1 Axes>"
      ]
     },
     "metadata": {
      "needs_background": "light"
     },
     "output_type": "display_data"
    }
   ],
   "source": [
    "data[\"Drug_clss\"].value_counts()\n",
    "plt.figure(figsize=(6,6))\n",
    "sns.countplot(x='Drug_clss',hue='Drug_clss',data=data,palette=\"PuBuGn_r\")\n",
    "plt.title(\"Highly affecting drugs vs low affecting\",fontsize=18 )\n",
    "#plt.xticks(rotation=45)"
   ]
  },
  {
   "cell_type": "code",
   "execution_count": 16,
   "id": "cea38f7e",
   "metadata": {},
   "outputs": [
    {
     "data": {
      "text/plain": [
       "Index(['NAME', 'GENDER', 'DRUG NAME', 'AGE', 'RACE', 'SIDE EFFECTS',\n",
       "       'Drug_clss'],\n",
       "      dtype='object')"
      ]
     },
     "execution_count": 16,
     "metadata": {},
     "output_type": "execute_result"
    }
   ],
   "source": [
    "data.columns"
   ]
  },
  {
   "cell_type": "markdown",
   "id": "76154e42",
   "metadata": {},
   "source": [
    "# Which age people affecting more on this Side-effects"
   ]
  },
  {
   "cell_type": "code",
   "execution_count": null,
   "id": "4349c054",
   "metadata": {},
   "outputs": [],
   "source": []
  },
  {
   "cell_type": "code",
   "execution_count": 17,
   "id": "da66efa5",
   "metadata": {},
   "outputs": [
    {
     "data": {
      "text/plain": [
       "55.0     15572\n",
       "37.0     14379\n",
       "29.0     13719\n",
       "24.0     13703\n",
       "41.0     12974\n",
       "         ...  \n",
       "500.0        1\n",
       "80.0         1\n",
       "90.0         1\n",
       "302.0        1\n",
       "89.0         1\n",
       "Name: AGE, Length: 80, dtype: int64"
      ]
     },
     "execution_count": 17,
     "metadata": {},
     "output_type": "execute_result"
    }
   ],
   "source": [
    "data['AGE'].value_counts()"
   ]
  },
  {
   "cell_type": "code",
   "execution_count": null,
   "id": "232b7baa",
   "metadata": {},
   "outputs": [],
   "source": []
  },
  {
   "cell_type": "code",
   "execution_count": 18,
   "id": "9fd3625e",
   "metadata": {},
   "outputs": [
    {
     "name": "stderr",
     "output_type": "stream",
     "text": [
      "C:\\Users\\razi\\anaconda3\\lib\\site-packages\\seaborn\\_decorators.py:36: FutureWarning: Pass the following variables as keyword args: x, y. From version 0.12, the only valid positional argument will be `data`, and passing other arguments without an explicit keyword will result in an error or misinterpretation.\n",
      "  warnings.warn(\n"
     ]
    },
    {
     "data": {
      "image/png": "[encoded data removed]",
      "text/plain": [
       "<Figure size 1080x576 with 1 Axes>"
      ]
     },
     "metadata": {
      "needs_background": "light"
     },
     "output_type": "display_data"
    }
   ],
   "source": [
    "plt.figure(figsize=(15,8))\n",
    "sns.barplot(data['AGE'], data['SIDE EFFECTS'])\n",
    "plt.axhline(y=1,linewidth=1, color='k')\n",
    "plt.axhline(y=2,linewidth=1, color='k')\n",
    "plt.axhline(y=3,linewidth=1, color='k')\n",
    "plt.axhline(y=4,linewidth=1, color='k')\n",
    "plt.xticks(rotation=45)\n",
    "plt.show()"
   ]
  },
  {
   "cell_type": "markdown",
   "id": "bab505fa",
   "metadata": {},
   "source": [
    "**Inference**"
   ]
  },
  {
   "cell_type": "markdown",
   "id": "44950754",
   "metadata": {},
   "source": [
    "Old people suffering from Extreme side-effects"
   ]
  },
  {
   "cell_type": "markdown",
   "id": "de47d88d",
   "metadata": {},
   "source": [
    "# Which Race people affecting more on this Side-effects"
   ]
  },
  {
   "cell_type": "code",
   "execution_count": 19,
   "id": "69ac1570",
   "metadata": {},
   "outputs": [
    {
     "name": "stderr",
     "output_type": "stream",
     "text": [
      "C:\\Users\\razi\\anaconda3\\lib\\site-packages\\seaborn\\_decorators.py:36: FutureWarning: Pass the following variables as keyword args: x, y. From version 0.12, the only valid positional argument will be `data`, and passing other arguments without an explicit keyword will result in an error or misinterpretation.\n",
      "  warnings.warn(\n"
     ]
    },
    {
     "data": {
      "image/png": "[encoded data removed]",
      "text/plain": [
       "<Figure size 1080x576 with 1 Axes>"
      ]
     },
     "metadata": {
      "needs_background": "light"
     },
     "output_type": "display_data"
    }
   ],
   "source": [
    "plt.figure(figsize=(15,8))\n",
    "sns.barplot(data['RACE'], data['SIDE EFFECTS'])\n",
    "plt.show()"
   ]
  },
  {
   "cell_type": "markdown",
   "id": "0d83245d",
   "metadata": {},
   "source": [
    "**Inference**"
   ]
  },
  {
   "cell_type": "markdown",
   "id": "c00a77df",
   "metadata": {},
   "source": [
    "Asian people suffering from side-effects compared to other race"
   ]
  },
  {
   "cell_type": "markdown",
   "id": "f20c9c98",
   "metadata": {},
   "source": [
    "# Pre-processing"
   ]
  },
  {
   "cell_type": "markdown",
   "id": "7fefb7f7",
   "metadata": {},
   "source": [
    "## Feature-Engineering"
   ]
  },
  {
   "cell_type": "code",
   "execution_count": 20,
   "id": "a72afe5f",
   "metadata": {},
   "outputs": [
    {
     "data": {
      "text/plain": [
       "NAME             0\n",
       "GENDER           0\n",
       "DRUG NAME        0\n",
       "AGE             20\n",
       "RACE             0\n",
       "SIDE EFFECTS     0\n",
       "Drug_clss        0\n",
       "dtype: int64"
      ]
     },
     "execution_count": 20,
     "metadata": {},
     "output_type": "execute_result"
    }
   ],
   "source": [
    "data.isna().sum()"
   ]
  },
  {
   "cell_type": "code",
   "execution_count": 21,
   "id": "e22d041f",
   "metadata": {},
   "outputs": [
    {
     "data": {
      "text/plain": [
       "41.0"
      ]
     },
     "execution_count": 21,
     "metadata": {},
     "output_type": "execute_result"
    }
   ],
   "source": [
    "data['AGE'].median()"
   ]
  },
  {
   "cell_type": "code",
   "execution_count": 22,
   "id": "51855a23",
   "metadata": {},
   "outputs": [],
   "source": [
    "data=data.dropna(axis=0, subset=['AGE'])"
   ]
  },
  {
   "cell_type": "code",
   "execution_count": 23,
   "id": "20eb57de",
   "metadata": {},
   "outputs": [
    {
     "data": {
      "text/plain": [
       "NAME             object\n",
       "GENDER           object\n",
       "DRUG NAME        object\n",
       "AGE             float64\n",
       "RACE             object\n",
       "SIDE EFFECTS      int64\n",
       "Drug_clss          bool\n",
       "dtype: object"
      ]
     },
     "execution_count": 23,
     "metadata": {},
     "output_type": "execute_result"
    }
   ],
   "source": [
    "data.dtypes"
   ]
  },
  {
   "cell_type": "code",
   "execution_count": 24,
   "id": "32f3494c",
   "metadata": {},
   "outputs": [
    {
     "data": {
      "image/png": "[encoded data removed]",
      "text/plain": [
       "<Figure size 1440x2160 with 1 Axes>"
      ]
     },
     "metadata": {
      "needs_background": "light"
     },
     "output_type": "display_data"
    }
   ],
   "source": [
    "import warnings\n",
    "warnings.filterwarnings('ignore')\n",
    "\n",
    "plt.figure(figsize=(20,30))\n",
    "features = ['AGE'] \n",
    "for i in enumerate(features): \n",
    "    ax = plt.subplot(5,4, i[0]+1)\n",
    "    sns.boxplot(data[i[1]])\n",
    "    plt.xticks(rotation = 20)"
   ]
  },
  {
   "cell_type": "code",
   "execution_count": 25,
   "id": "ff73d02f",
   "metadata": {},
   "outputs": [
    {
     "name": "stdout",
     "output_type": "stream",
     "text": [
      "value of Q1: 34.0\n",
      "value of Q2: 45.0\n",
      "value of Q3: 57.0\n"
     ]
    }
   ],
   "source": [
    "# Calculate quartile values for 'UsefulCount' using 30,60 and 90 percentile values\n",
    "Q1=np.percentile(data[\"AGE\"],30,interpolation= \"midpoint\")\n",
    "Q2=np.percentile(data[\"AGE\"],60,interpolation= \"midpoint\")\n",
    "Q3=np.percentile(data[\"AGE\"],90,interpolation= \"midpoint\")\n",
    "print(\"value of Q1:\",Q1)\n",
    "print(\"value of Q2:\",Q2)\n",
    "print(\"value of Q3:\",Q3)"
   ]
  },
  {
   "cell_type": "code",
   "execution_count": 26,
   "id": "f42df4bc",
   "metadata": {},
   "outputs": [],
   "source": [
    "IQR= Q3-Q1"
   ]
  },
  {
   "cell_type": "code",
   "execution_count": 27,
   "id": "61900977",
   "metadata": {},
   "outputs": [
    {
     "name": "stdout",
     "output_type": "stream",
     "text": [
      "Upper limit value is: 91.5\n",
      "Lower limit value is: -0.5\n"
     ]
    }
   ],
   "source": [
    "Upper_lim= Q3+1.5*IQR\n",
    "Lower_lim=Q1-1.5*IQR\n",
    "print(\"Upper limit value is:\",Upper_lim)\n",
    "print(\"Lower limit value is:\",Lower_lim)"
   ]
  },
  {
   "cell_type": "code",
   "execution_count": 28,
   "id": "04265289",
   "metadata": {},
   "outputs": [],
   "source": [
    "outlier=[]\n",
    "for x in data[\"AGE\"]:\n",
    "    if((x>Upper_lim)or(x<Lower_lim)):\n",
    "        outlier.append(x)"
   ]
  },
  {
   "cell_type": "code",
   "execution_count": 29,
   "id": "cefa53e5",
   "metadata": {},
   "outputs": [
    {
     "data": {
      "text/plain": [
       "[300.0,\n",
       " 302.0,\n",
       " 500.0,\n",
       " 400.0,\n",
       " 203.0,\n",
       " 160.0,\n",
       " 400.0,\n",
       " 191.0,\n",
       " 450.0,\n",
       " 390.0,\n",
       " 155.0,\n",
       " 300.0,\n",
       " 390.0,\n",
       " 600.0,\n",
       " 211.0,\n",
       " 600.0,\n",
       " 401.0,\n",
       " 300.0,\n",
       " 390.0]"
      ]
     },
     "execution_count": 29,
     "metadata": {},
     "output_type": "execute_result"
    }
   ],
   "source": [
    "outlier"
   ]
  },
  {
   "cell_type": "code",
   "execution_count": 30,
   "id": "129384b7",
   "metadata": {},
   "outputs": [],
   "source": [
    "ind_val=data[\"AGE\"]>Upper_lim\n",
    "idx=data.loc[ind_val].index"
   ]
  },
  {
   "cell_type": "code",
   "execution_count": 31,
   "id": "83240331",
   "metadata": {},
   "outputs": [],
   "source": [
    "data.drop(data[(data['AGE'] >Upper_lim)].index, inplace=True)"
   ]
  },
  {
   "cell_type": "code",
   "execution_count": 32,
   "id": "37343d3c",
   "metadata": {},
   "outputs": [
    {
     "data": {
      "image/png": "[encoded data removed]",
      "text/plain": [
       "<Figure size 1440x2160 with 1 Axes>"
      ]
     },
     "metadata": {
      "needs_background": "light"
     },
     "output_type": "display_data"
    }
   ],
   "source": [
    "\n",
    "import warnings\n",
    "warnings.filterwarnings('ignore')\n",
    "\n",
    "plt.figure(figsize=(20,30))\n",
    "features = ['AGE'] \n",
    "for i in enumerate(features): \n",
    "    ax = plt.subplot(5,4, i[0]+1)\n",
    "    sns.boxplot(data[i[1]])\n",
    "    plt.xticks(rotation = 20)"
   ]
  },
  {
   "cell_type": "code",
   "execution_count": 33,
   "id": "a5d6b541",
   "metadata": {},
   "outputs": [
    {
     "data": {
      "text/html": [
       "<div>\n",
       "<style scoped>\n",
       "    .dataframe tbody tr th:only-of-type {\n",
       "        vertical-align: middle;\n",
       "    }\n",
       "\n",
       "    .dataframe tbody tr th {\n",
       "        vertical-align: top;\n",
       "    }\n",
       "\n",
       "    .dataframe thead th {\n",
       "        text-align: right;\n",
       "    }\n",
       "</style>\n",
       "<table border=\"1\" class=\"dataframe\">\n",
       "  <thead>\n",
       "    <tr style=\"text-align: right;\">\n",
       "      <th></th>\n",
       "      <th>NAME</th>\n",
       "      <th>GENDER</th>\n",
       "      <th>DRUG NAME</th>\n",
       "      <th>AGE</th>\n",
       "      <th>RACE</th>\n",
       "      <th>SIDE EFFECTS</th>\n",
       "      <th>Drug_clss</th>\n",
       "    </tr>\n",
       "  </thead>\n",
       "  <tbody>\n",
       "    <tr>\n",
       "      <th>0</th>\n",
       "      <td>Aaban</td>\n",
       "      <td>M</td>\n",
       "      <td>topamax</td>\n",
       "      <td>41.0</td>\n",
       "      <td>White</td>\n",
       "      <td>1</td>\n",
       "      <td>False</td>\n",
       "    </tr>\n",
       "    <tr>\n",
       "      <th>1</th>\n",
       "      <td>Aaban</td>\n",
       "      <td>M</td>\n",
       "      <td>zocor</td>\n",
       "      <td>53.0</td>\n",
       "      <td>Hispanic, White</td>\n",
       "      <td>4</td>\n",
       "      <td>True</td>\n",
       "    </tr>\n",
       "    <tr>\n",
       "      <th>2</th>\n",
       "      <td>Aabha</td>\n",
       "      <td>F</td>\n",
       "      <td>tazorac</td>\n",
       "      <td>31.0</td>\n",
       "      <td>White</td>\n",
       "      <td>1</td>\n",
       "      <td>False</td>\n",
       "    </tr>\n",
       "    <tr>\n",
       "      <th>3</th>\n",
       "      <td>Aabha</td>\n",
       "      <td>F</td>\n",
       "      <td>voltaren</td>\n",
       "      <td>44.0</td>\n",
       "      <td>White</td>\n",
       "      <td>3</td>\n",
       "      <td>True</td>\n",
       "    </tr>\n",
       "    <tr>\n",
       "      <th>4</th>\n",
       "      <td>Aabid</td>\n",
       "      <td>M</td>\n",
       "      <td>tramadol</td>\n",
       "      <td>24.0</td>\n",
       "      <td>White</td>\n",
       "      <td>0</td>\n",
       "      <td>False</td>\n",
       "    </tr>\n",
       "  </tbody>\n",
       "</table>\n",
       "</div>"
      ],
      "text/plain": [
       "    NAME GENDER DRUG NAME   AGE             RACE  SIDE EFFECTS  Drug_clss\n",
       "0  Aaban      M   topamax  41.0            White             1      False\n",
       "1  Aaban      M     zocor  53.0  Hispanic, White             4       True\n",
       "2  Aabha      F   tazorac  31.0            White             1      False\n",
       "3  Aabha      F  voltaren  44.0            White             3       True\n",
       "4  Aabid      M  tramadol  24.0            White             0      False"
      ]
     },
     "execution_count": 33,
     "metadata": {},
     "output_type": "execute_result"
    }
   ],
   "source": [
    "data.head()"
   ]
  },
  {
   "cell_type": "markdown",
   "id": "a85a18ec",
   "metadata": {},
   "source": [
    "# Feature Selection- Correlation"
   ]
  },
  {
   "cell_type": "code",
   "execution_count": 34,
   "id": "1876a4f8",
   "metadata": {},
   "outputs": [
    {
     "data": {
      "text/plain": [
       "<AxesSubplot:title={'center':'Heatmap of the  Data befor feature reduction'}>"
      ]
     },
     "execution_count": 34,
     "metadata": {},
     "output_type": "execute_result"
    },
    {
     "data": {
      "image/png": "[encoded data removed]",
      "text/plain": [
       "<Figure size 2160x1440 with 2 Axes>"
      ]
     },
     "metadata": {
      "needs_background": "light"
     },
     "output_type": "display_data"
    }
   ],
   "source": [
    "# Calculating the Correlation matrix using DataFrame.corr()\n",
    "corrmatrix = data.corr()\n",
    "# Creating Heatmap using seaborn & Correlation matrix\n",
    "plt.figure(figsize=(30,20))\n",
    "plt.title('Heatmap of the  Data befor feature reduction', fontsize=20)\n",
    "colormap = sns.color_palette('ch:s=.25,rot=-.25')\n",
    "sns.heatmap(corrmatrix,vmin=-0.2,vmax=0.9, annot=True, linewidth=0.75, cmap=\"YlGnBu\")"
   ]
  },
  {
   "cell_type": "code",
   "execution_count": 35,
   "id": "5f5514a8",
   "metadata": {},
   "outputs": [],
   "source": [
    "data.drop(columns=['Drug_clss'],axis=1,inplace=True)"
   ]
  },
  {
   "cell_type": "code",
   "execution_count": 36,
   "id": "6be12409",
   "metadata": {},
   "outputs": [
    {
     "data": {
      "text/plain": [
       "White              314046\n",
       "Hispanic, White     44069\n",
       "Black               35839\n",
       "Unknown              3046\n",
       "Hispanic, Black      1673\n",
       "Other                1008\n",
       "Asian, Other          168\n",
       "Asian Indian          104\n",
       "Chinese                 8\n",
       "Name: RACE, dtype: int64"
      ]
     },
     "execution_count": 36,
     "metadata": {},
     "output_type": "execute_result"
    }
   ],
   "source": [
    "data['RACE'].value_counts()"
   ]
  },
  {
   "cell_type": "markdown",
   "id": "7d8034a9",
   "metadata": {},
   "source": [
    "## Reducing Cardinality of dimensions"
   ]
  },
  {
   "cell_type": "code",
   "execution_count": 37,
   "id": "94009eaf",
   "metadata": {},
   "outputs": [
    {
     "data": {
      "text/plain": [
       "{'paxil': 6268,\n",
       " 'lamictal': 6045,\n",
       " 'nexium': 6029,\n",
       " 'levoxyl': 5958,\n",
       " 'lexapro': 5691,\n",
       " 'ambien': 5690,\n",
       " 'citalopram': 5558,\n",
       " 'prozac': 5532,\n",
       " 'retin-a': 5340,\n",
       " 'effexor': 5276,\n",
       " 'chantix': 5181,\n",
       " 'differin': 5149,\n",
       " 'provigil': 5051,\n",
       " 'topamax': 4617,\n",
       " 'augmentin': 4527,\n",
       " 'neurontin': 4224,\n",
       " 'ultram': 4042,\n",
       " 'amoxil': 3991,\n",
       " 'propecia': 3972,\n",
       " 'synthroid': 3838,\n",
       " 'retin-a-micro': 3708,\n",
       " 'doxycycline': 3694,\n",
       " 'elavil': 3596,\n",
       " 'metrogel': 3509,\n",
       " 'seroquel': 3301,\n",
       " 'wellbutrin': 3295,\n",
       " 'wellbutrin-xl': 3255,\n",
       " 'effexor-xr': 3248,\n",
       " 'tramadol': 3229,\n",
       " 'prevacid': 3111,\n",
       " 'seasonique': 3103,\n",
       " 'prednisone': 3102,\n",
       " 'zyrtec': 3102,\n",
       " 'lamisil': 3062,\n",
       " 'strattera': 3030,\n",
       " 'tri-luma': 3024,\n",
       " 'albuterol': 3024,\n",
       " 'methotrexate': 3006,\n",
       " 'voltaren': 2983,\n",
       " 'zegerid': 2975,\n",
       " 'cymbalta': 2957,\n",
       " 'zovirax': 2942,\n",
       " 'tenormin': 2902,\n",
       " 'panixine-disperdose': 2887,\n",
       " 'lipitor': 2793,\n",
       " 'vyvanse': 2714,\n",
       " 'metformin': 2657,\n",
       " 'nuvaring': 2626,\n",
       " 'wellbutrin-sr': 2578,\n",
       " 'zoloft': 2540,\n",
       " 'acyclovir': 2460,\n",
       " 'accutane': 2343,\n",
       " 'valtrex': 2332,\n",
       " 'lyrica': 2244,\n",
       " 'minocycline': 2244,\n",
       " 'renova': 2237,\n",
       " 'xanax': 2172,\n",
       " 'avita': 2156,\n",
       " 'claritin': 2155,\n",
       " 'yasmin': 2148,\n",
       " 'celebrex': 2125,\n",
       " 'remicade': 2109,\n",
       " 'celexa': 2108,\n",
       " 'vicodin': 2092,\n",
       " 'ativan': 2077,\n",
       " 'fosamax': 2059,\n",
       " 'lorazepam': 1987,\n",
       " 'avage': 1965,\n",
       " 'pentasa': 1957,\n",
       " 'byetta': 1949,\n",
       " 'protopic': 1948,\n",
       " 'fexofenadine': 1940,\n",
       " 'baclofen': 1932,\n",
       " 'estratest': 1932,\n",
       " 'prometrium': 1925,\n",
       " 'clarinex': 1925,\n",
       " 'sonata': 1910,\n",
       " 'imitrex': 1839,\n",
       " 'adipex-p': 1799,\n",
       " 'singulair': 1784,\n",
       " 'flexeril': 1727,\n",
       " 'tazorac': 1695,\n",
       " 'ortho-tri-cyclen': 1681,\n",
       " 'adderall': 1671,\n",
       " 'premarin': 1664,\n",
       " 'lunesta': 1646,\n",
       " 'prempro': 1640,\n",
       " 'concerta': 1615,\n",
       " 'keflex': 1576,\n",
       " 'climara': 1575,\n",
       " 'clonazepam': 1552,\n",
       " 'proquin-xr': 1495,\n",
       " 'zyrtec-d': 1487,\n",
       " 'nolvadex': 1480,\n",
       " 'prinivil': 1298,\n",
       " 'flonase': 1290,\n",
       " 'cipro': 1274,\n",
       " 'klonopin': 1225,\n",
       " 'armour-thyroid': 1187,\n",
       " 'spironolactone': 1186,\n",
       " 'allegra': 1178,\n",
       " 'prilosec': 1170,\n",
       " 'enbrel': 1138,\n",
       " 'naproxen': 1138,\n",
       " 'zithromax': 1130,\n",
       " 'cialis': 1123,\n",
       " 'percocet': 1114,\n",
       " 'zomig': 1114,\n",
       " 'crestor': 1114,\n",
       " 'proscar': 1106,\n",
       " 'meridia': 1106,\n",
       " 'sarafem': 1091,\n",
       " 'oxycodone': 1090,\n",
       " 'xyrem': 1090,\n",
       " 'ambien-cr': 1083,\n",
       " 'niaspan': 1067,\n",
       " 'claripel-cream': 1066,\n",
       " 'desyrel': 1058,\n",
       " 'depo-provera': 1058,\n",
       " 'diazepam': 1058,\n",
       " 'oracea': 1058,\n",
       " 'macrobid': 1055,\n",
       " 'sotret': 1050,\n",
       " 'lumigan': 1050,\n",
       " 'xenical': 1050,\n",
       " 'trazodone': 1042,\n",
       " 'ditropan': 1042,\n",
       " 'zyprexa': 1042,\n",
       " 'aricept': 1035,\n",
       " 'risperdal': 1034,\n",
       " 'clindamycin': 1034,\n",
       " 'avelox': 1027,\n",
       " 'coumadin': 1026,\n",
       " 'advair-hfa': 1019,\n",
       " 'nortriptyline': 1019,\n",
       " 'asacol': 1019,\n",
       " 'atarax': 1018,\n",
       " 'maxalt': 1018,\n",
       " 'selegiline': 1018,\n",
       " 'tamiflu': 1017,\n",
       " 'cleocin': 1011,\n",
       " 'sumatriptan': 1011,\n",
       " 'noroxin': 1010,\n",
       " 'doryx': 1010,\n",
       " 'pristiq': 1010,\n",
       " 'abilify': 1010,\n",
       " 'estrace': 1010,\n",
       " 'glucophage': 1002,\n",
       " 'klaron': 995,\n",
       " 'erythromycin': 994,\n",
       " 'aldactone': 987,\n",
       " 'ultracet': 987,\n",
       " 'diovan': 987,\n",
       " 'femring': 986,\n",
       " 'toradol': 986,\n",
       " 'ranitidine': 979,\n",
       " 'duac': 979,\n",
       " 'sulfasalazine': 979,\n",
       " 'darvocet-n': 978,\n",
       " 'triaz': 978,\n",
       " 'nuvigil': 978,\n",
       " 'cosopt': 978,\n",
       " 'vytorin': 971,\n",
       " 'restoril': 971,\n",
       " 'nitrofurantoin': 971,\n",
       " 'sular': 970,\n",
       " 'arava': 970,\n",
       " 'ampicillin': 970,\n",
       " 'copaxone': 970,\n",
       " 'symbyax': 970,\n",
       " 'buspar': 970,\n",
       " 'allegra-d': 969,\n",
       " 'nasacort': 963,\n",
       " 'minoxidil': 963,\n",
       " 'dextrostat': 962,\n",
       " 'ketoconazole': 962,\n",
       " 'frova': 962,\n",
       " 'xanax-xr': 962,\n",
       " 'vaniqa': 962,\n",
       " 'isoniazid': 962,\n",
       " 'pravachol': 962,\n",
       " 'naltrexone': 962,\n",
       " 'actos': 962,\n",
       " 'omnitrope': 962,\n",
       " 'mirena': 962,\n",
       " 'aygestin': 955,\n",
       " 'evoclin': 955,\n",
       " 'cataflam': 955,\n",
       " 'miralax': 955,\n",
       " 'mevacor': 954,\n",
       " 'norvasc': 750,\n",
       " 'botox': 692,\n",
       " 'valium': 638,\n",
       " 'diclofenac': 638,\n",
       " 'zyban': 630,\n",
       " 'metronidazole': 622,\n",
       " 'zocor': 622,\n",
       " 'soma': 606,\n",
       " 'actonel': 598,\n",
       " 'seasonale': 582,\n",
       " 'keppra': 581,\n",
       " 'humira': 581,\n",
       " 'symbicort': 557,\n",
       " 'lortab': 550,\n",
       " 'naprosyn': 541,\n",
       " 'levora': 525,\n",
       " 'tussionex': 525,\n",
       " 'aromasin': 518,\n",
       " 'plendil': 517,\n",
       " 'halcion': 517,\n",
       " 'qvar': 517,\n",
       " 'estrasorb': 510,\n",
       " 'biaxin': 231,\n",
       " 'mobic': 200,\n",
       " 'nasonex': 176,\n",
       " 'tetracycline': 168,\n",
       " 'motrin': 152,\n",
       " 'remeron': 146,\n",
       " 'protonix': 144,\n",
       " 'zantac': 136,\n",
       " 'oxycontin': 136,\n",
       " 'levaquin': 136,\n",
       " 'elidel': 128,\n",
       " 'tirosint': 128,\n",
       " 'hydrochlorothiazide': 120,\n",
       " 'requip': 120,\n",
       " 'atenolol': 112,\n",
       " 'advair-diskus': 112,\n",
       " 'lamotrigine': 112,\n",
       " 'mirtazapine': 104,\n",
       " 'alprazolam': 104,\n",
       " 'tylenol': 104,\n",
       " 'innofem': 104,\n",
       " 'zmax': 96,\n",
       " 'evista': 96,\n",
       " 'zofran': 96,\n",
       " 'dispermox': 96,\n",
       " 'flagyl': 88,\n",
       " 'solodyn': 88,\n",
       " 'vivelle-dot': 80,\n",
       " 'hyzaar': 80,\n",
       " 'finacea': 80,\n",
       " 'permapen': 80,\n",
       " 'ritalin': 80,\n",
       " 'vagifem': 80,\n",
       " 'relpax': 72,\n",
       " 'aldara': 72,\n",
       " 'cytomel': 72,\n",
       " 'malarone': 64,\n",
       " 'viagra': 64,\n",
       " 'plavix': 64,\n",
       " 'omnicef': 64,\n",
       " 'ecotrin': 64,\n",
       " 'alendronate': 64,\n",
       " 'micardis': 64,\n",
       " 'reglan': 56,\n",
       " 'ortho-tri-cyclen-lo': 56,\n",
       " 'grifulvin-v': 56,\n",
       " 'dilaudid': 56,\n",
       " 'angeliq': 56,\n",
       " 'lithium-carbonate': 56,\n",
       " 'mirapex': 56,\n",
       " 'imodium': 56,\n",
       " 'fioricet': 56,\n",
       " 'adderall-xr': 56,\n",
       " 'premarin-vaginal': 48,\n",
       " 'avodart': 48,\n",
       " 'clarithromycin': 48,\n",
       " 'niacor': 48,\n",
       " 'fluconazole': 48,\n",
       " 'levitra': 48,\n",
       " 'avapro': 48,\n",
       " 'clomid': 48,\n",
       " 'compazine': 48,\n",
       " 'catapres': 48,\n",
       " 'ventolin-hfa': 48,\n",
       " 'latisse': 48,\n",
       " 'amitiza': 48,\n",
       " 'betamethasone': 48,\n",
       " 'galzin': 48,\n",
       " 'nystatin': 48,\n",
       " 'azelex': 48,\n",
       " 'restasis': 48,\n",
       " 'dysport': 48,\n",
       " 'accupril': 40,\n",
       " 'rhinocort': 40,\n",
       " 'elocon': 40,\n",
       " 'azopt': 40,\n",
       " 'clobetasol': 40,\n",
       " 'hydrocortisone': 40,\n",
       " 'phendimetrazine': 40,\n",
       " 'tobramycin': 40,\n",
       " 'ortho-evra': 40,\n",
       " 'prednisolone': 40,\n",
       " 'trimethobenzamide': 40,\n",
       " 'inderal': 40,\n",
       " 'methadone': 40,\n",
       " 'danazol': 40,\n",
       " 'fosamax-plus-d': 40,\n",
       " 'oxybutynin': 40,\n",
       " 'hytrin': 40,\n",
       " 'provera': 40,\n",
       " 'eulexin': 40,\n",
       " 'metoclopramide': 40,\n",
       " 'tarka': 40,\n",
       " 'geodon': 40,\n",
       " 'ketorolac': 40,\n",
       " 'sulindac': 40,\n",
       " 'lo-ovral': 40,\n",
       " 'baraclude': 40,\n",
       " 'fiorinal': 40,\n",
       " 'axert': 40,\n",
       " 'aczone': 40,\n",
       " 'trimethoprim': 40,\n",
       " 'relafen': 32,\n",
       " 'duragesic': 32,\n",
       " 'detrol-la': 32,\n",
       " 'flomax': 32,\n",
       " 'diflucan': 32,\n",
       " 'septra': 32,\n",
       " 'enalapril': 32,\n",
       " 'vasotec': 32,\n",
       " 'tegretol': 32,\n",
       " 'paxil-cr': 32,\n",
       " 'depakote': 24,\n",
       " 'dextroamphetamine': 24,\n",
       " 'seroquel-xr': 24,\n",
       " 'anafranil': 24,\n",
       " 'benicar': 24,\n",
       " 'serzone': 24,\n",
       " 'soltamox': 24,\n",
       " 'oxazepam': 24,\n",
       " 'lopressor': 24,\n",
       " 'fluvoxamine': 24,\n",
       " 'suboxone': 24,\n",
       " 'minocin': 24,\n",
       " 'cozaar': 24,\n",
       " 'coreg': 24,\n",
       " 'ziana': 24,\n",
       " 'divigel': 24,\n",
       " 'lotrel': 24,\n",
       " 'aciphex': 24,\n",
       " 'triphasil': 24,\n",
       " 'benzaclin': 24,\n",
       " 'levothroid': 24,\n",
       " 'ponstel': 24,\n",
       " 'emsam': 24,\n",
       " 'carac': 24,\n",
       " 'tekturna': 16,\n",
       " 'dilantin': 16,\n",
       " 'neoprofen': 16,\n",
       " 'skelaxin': 16,\n",
       " 'zestoretic': 16,\n",
       " 'deltasone': 16,\n",
       " 'propranolol': 16,\n",
       " 'aloprim': 16,\n",
       " 'pilocarpine': 16,\n",
       " 'vivelle': 16,\n",
       " 'periogard': 16,\n",
       " 'lupron': 16,\n",
       " 'clindamycin-topical': 16,\n",
       " 'antivert': 16,\n",
       " 'caduet': 16,\n",
       " 'tambocor': 16,\n",
       " 'ultram-er': 16,\n",
       " 'methimazole': 16,\n",
       " 'rebif': 16,\n",
       " 'saizen': 16,\n",
       " 'dexamethasone': 16,\n",
       " 'topicort': 16,\n",
       " 'benadryl': 16,\n",
       " 'dovonex': 16,\n",
       " 'xalatan': 16,\n",
       " 'ceclor': 16,\n",
       " 'dexedrine': 16,\n",
       " 'norpramin': 16,\n",
       " 'clobex': 16,\n",
       " 'temovate': 16,\n",
       " 'metoprolol': 16,\n",
       " 'cyproheptadine': 16,\n",
       " 'climara-pro': 16,\n",
       " 'ortho-novum': 16,\n",
       " 'tequin': 16,\n",
       " 'follistim': 16,\n",
       " 'imuran': 16,\n",
       " 'parlodel': 16,\n",
       " 'toprol-xl': 16,\n",
       " 'spiriva': 16,\n",
       " 'phenergan': 16,\n",
       " 'boniva': 16,\n",
       " 'atacand': 16,\n",
       " 'delestrogen': 16,\n",
       " 'fortaz': 16,\n",
       " 'ritalin-la': 16,\n",
       " 'dostinex': 16,\n",
       " 'morphine': 16,\n",
       " 'triamcinolone': 16,\n",
       " 'buprenorphine': 16,\n",
       " 'efudex': 16,\n",
       " 'xyzal': 16,\n",
       " 'actiq': 16,\n",
       " 'rifadin': 8,\n",
       " 'bisoprolol': 8,\n",
       " 'zyvox': 8,\n",
       " 'arthrotec': 8,\n",
       " 'dapsone': 8,\n",
       " 'lybrel': 8,\n",
       " 'risperdal-consta': 8,\n",
       " 'pamelor': 8,\n",
       " 'vesicare': 8,\n",
       " 'inspra': 8,\n",
       " 'progesterone': 8,\n",
       " 'metformin-extended-release': 8,\n",
       " 'vigamox': 8,\n",
       " 'vistaril': 8,\n",
       " 'levetiracetam': 8,\n",
       " 'erythra-derm': 8,\n",
       " 'estring': 8,\n",
       " 'tapazole': 8,\n",
       " 'bactroban': 8,\n",
       " 'cardura': 8,\n",
       " 'amerge': 8,\n",
       " 'baciim': 8,\n",
       " 'asmanex': 8,\n",
       " 'femara': 8,\n",
       " 'accolate': 8,\n",
       " 'detrol': 8,\n",
       " 'warfarin': 8,\n",
       " 'glucophage-xr': 8,\n",
       " 'vicoprofen': 8,\n",
       " 'sanctura-xr': 8,\n",
       " 'kenalog': 8,\n",
       " 'nardil': 8,\n",
       " 'pepcid': 8,\n",
       " 'nasacort-aq': 8,\n",
       " 'lotronex': 8,\n",
       " 'bystolic': 8,\n",
       " 'cefzil': 8,\n",
       " 'azor': 8,\n",
       " 'zovirax-topical': 8,\n",
       " 'omacor': 8,\n",
       " 'proloprim': 8,\n",
       " 'quibron-t': 8,\n",
       " 'lidocaine': 8,\n",
       " 'lodine': 8,\n",
       " 'estrostep-fe': 8,\n",
       " 'ziac': 8,\n",
       " 'nizoral': 8,\n",
       " 'diltiazem': 8,\n",
       " 'corgard': 8,\n",
       " 'lac-hydrin': 8,\n",
       " 'cardura-xl': 8,\n",
       " 'fentanyl': 8,\n",
       " 'benicar-hct': 8,\n",
       " 'azasan': 8,\n",
       " 'locoid-lipocream': 8,\n",
       " 'hydrocodone-and-acetaminophen': 8,\n",
       " 'atripla': 8,\n",
       " 'penicillin-v': 8,\n",
       " 'prochlorperazine': 8,\n",
       " 'betaseron': 8,\n",
       " 'tofranil-pm': 8,\n",
       " 'lidex': 8,\n",
       " 'enablex': 8,\n",
       " 'vioxx': 8,\n",
       " 'meperidine': 8,\n",
       " 'polymyxin-b': 8,\n",
       " 'nizoral-shampoo': 8,\n",
       " 'penlac': 8,\n",
       " 'trilipix': 8,\n",
       " 'dicyclomine': 8,\n",
       " 'desonide': 8,\n",
       " 'adcirca': 8,\n",
       " 'femhrt': 8,\n",
       " 'exelon': 8,\n",
       " 'lasix': 8,\n",
       " 'elmiron': 8,\n",
       " 'trental': 8,\n",
       " 'trileptal': 8,\n",
       " 'gonal-f-rff': 8,\n",
       " 'nasarel': 8,\n",
       " 'mercaptopurine': 8,\n",
       " 'flovent': 8,\n",
       " 'aralen': 8,\n",
       " 'metrolotion': 8,\n",
       " 'hyoscyamine': 8,\n",
       " 'fosinopril': 8,\n",
       " 'alesse': 8,\n",
       " 'prograf': 8,\n",
       " 'amphetamine': 8,\n",
       " 'medroxyprogesterone': 8,\n",
       " 'doxepin': 8,\n",
       " 'ribavirin': 8,\n",
       " 'haldol': 8,\n",
       " 'depakene': 8,\n",
       " 'oxycodone-and-acetaminophen': 8,\n",
       " 'androgel': 8,\n",
       " 'lantus': 8,\n",
       " 'periostat': 8,\n",
       " 'proair-hfa': 8,\n",
       " 'bactrim-ds': 8,\n",
       " 'arimidex': 8}"
      ]
     },
     "execution_count": 37,
     "metadata": {},
     "output_type": "execute_result"
    }
   ],
   "source": [
    "data['DRUG NAME'].value_counts().to_dict()"
   ]
  },
  {
   "cell_type": "code",
   "execution_count": 38,
   "id": "98198fe9",
   "metadata": {},
   "outputs": [],
   "source": [
    "# first we make a dictionary that maps each label to the counts\n",
    "df_frequency_map = data['DRUG NAME'].value_counts().to_dict()"
   ]
  },
  {
   "cell_type": "code",
   "execution_count": 39,
   "id": "e6dd25a2",
   "metadata": {},
   "outputs": [],
   "source": [
    "# and now we replace X2 labels in the dataset df\n",
    "data['DRUG NAME'] = data['DRUG NAME'].map(df_frequency_map)"
   ]
  },
  {
   "cell_type": "code",
   "execution_count": 40,
   "id": "0aa8a598",
   "metadata": {},
   "outputs": [
    {
     "data": {
      "text/plain": [
       "['White',\n",
       " 'Hispanic, White',\n",
       " 'Black',\n",
       " 'Unknown',\n",
       " 'Hispanic, Black',\n",
       " 'Other',\n",
       " 'Asian, Other',\n",
       " 'Asian Indian',\n",
       " 'Chinese']"
      ]
     },
     "execution_count": 40,
     "metadata": {},
     "output_type": "execute_result"
    }
   ],
   "source": [
    "# let's make a list with the most frequent categories of the variable\n",
    "\n",
    "top_10_labels = [y for y in data['RACE'].value_counts().sort_values(ascending=False).head(10).index]\n",
    "top_10_labels"
   ]
  },
  {
   "cell_type": "code",
   "execution_count": 41,
   "id": "5b775bff",
   "metadata": {},
   "outputs": [],
   "source": [
    "# get whole set of dummy variables, for all the categorical variables\n",
    "\n",
    "def one_top_x(data, variable, top_x_labels):\n",
    "    # function to create the dummy variables for the most frequent labels\n",
    "    # we can vary the number of most frequent labels that we encode\n",
    "    \n",
    "    for label in top_x_labels:\n",
    "        data[variable+'_'+label] = np.where(data[variable]==label, 1, 0)"
   ]
  },
  {
   "cell_type": "code",
   "execution_count": 42,
   "id": "ef7303f8",
   "metadata": {},
   "outputs": [
    {
     "data": {
      "text/html": [
       "<div>\n",
       "<style scoped>\n",
       "    .dataframe tbody tr th:only-of-type {\n",
       "        vertical-align: middle;\n",
       "    }\n",
       "\n",
       "    .dataframe tbody tr th {\n",
       "        vertical-align: top;\n",
       "    }\n",
       "\n",
       "    .dataframe thead th {\n",
       "        text-align: right;\n",
       "    }\n",
       "</style>\n",
       "<table border=\"1\" class=\"dataframe\">\n",
       "  <thead>\n",
       "    <tr style=\"text-align: right;\">\n",
       "      <th></th>\n",
       "      <th>NAME</th>\n",
       "      <th>GENDER</th>\n",
       "      <th>DRUG NAME</th>\n",
       "      <th>AGE</th>\n",
       "      <th>RACE</th>\n",
       "      <th>SIDE EFFECTS</th>\n",
       "      <th>RACE_White</th>\n",
       "      <th>RACE_Hispanic, White</th>\n",
       "      <th>RACE_Black</th>\n",
       "      <th>RACE_Unknown</th>\n",
       "      <th>RACE_Hispanic, Black</th>\n",
       "      <th>RACE_Other</th>\n",
       "      <th>RACE_Asian, Other</th>\n",
       "      <th>RACE_Asian Indian</th>\n",
       "      <th>RACE_Chinese</th>\n",
       "    </tr>\n",
       "  </thead>\n",
       "  <tbody>\n",
       "    <tr>\n",
       "      <th>0</th>\n",
       "      <td>Aaban</td>\n",
       "      <td>M</td>\n",
       "      <td>4617</td>\n",
       "      <td>41.0</td>\n",
       "      <td>White</td>\n",
       "      <td>1</td>\n",
       "      <td>1</td>\n",
       "      <td>0</td>\n",
       "      <td>0</td>\n",
       "      <td>0</td>\n",
       "      <td>0</td>\n",
       "      <td>0</td>\n",
       "      <td>0</td>\n",
       "      <td>0</td>\n",
       "      <td>0</td>\n",
       "    </tr>\n",
       "    <tr>\n",
       "      <th>1</th>\n",
       "      <td>Aaban</td>\n",
       "      <td>M</td>\n",
       "      <td>622</td>\n",
       "      <td>53.0</td>\n",
       "      <td>Hispanic, White</td>\n",
       "      <td>4</td>\n",
       "      <td>0</td>\n",
       "      <td>1</td>\n",
       "      <td>0</td>\n",
       "      <td>0</td>\n",
       "      <td>0</td>\n",
       "      <td>0</td>\n",
       "      <td>0</td>\n",
       "      <td>0</td>\n",
       "      <td>0</td>\n",
       "    </tr>\n",
       "    <tr>\n",
       "      <th>2</th>\n",
       "      <td>Aabha</td>\n",
       "      <td>F</td>\n",
       "      <td>1695</td>\n",
       "      <td>31.0</td>\n",
       "      <td>White</td>\n",
       "      <td>1</td>\n",
       "      <td>1</td>\n",
       "      <td>0</td>\n",
       "      <td>0</td>\n",
       "      <td>0</td>\n",
       "      <td>0</td>\n",
       "      <td>0</td>\n",
       "      <td>0</td>\n",
       "      <td>0</td>\n",
       "      <td>0</td>\n",
       "    </tr>\n",
       "    <tr>\n",
       "      <th>3</th>\n",
       "      <td>Aabha</td>\n",
       "      <td>F</td>\n",
       "      <td>2983</td>\n",
       "      <td>44.0</td>\n",
       "      <td>White</td>\n",
       "      <td>3</td>\n",
       "      <td>1</td>\n",
       "      <td>0</td>\n",
       "      <td>0</td>\n",
       "      <td>0</td>\n",
       "      <td>0</td>\n",
       "      <td>0</td>\n",
       "      <td>0</td>\n",
       "      <td>0</td>\n",
       "      <td>0</td>\n",
       "    </tr>\n",
       "    <tr>\n",
       "      <th>4</th>\n",
       "      <td>Aabid</td>\n",
       "      <td>M</td>\n",
       "      <td>3229</td>\n",
       "      <td>24.0</td>\n",
       "      <td>White</td>\n",
       "      <td>0</td>\n",
       "      <td>1</td>\n",
       "      <td>0</td>\n",
       "      <td>0</td>\n",
       "      <td>0</td>\n",
       "      <td>0</td>\n",
       "      <td>0</td>\n",
       "      <td>0</td>\n",
       "      <td>0</td>\n",
       "      <td>0</td>\n",
       "    </tr>\n",
       "  </tbody>\n",
       "</table>\n",
       "</div>"
      ],
      "text/plain": [
       "    NAME GENDER  DRUG NAME   AGE             RACE  SIDE EFFECTS  RACE_White  \\\n",
       "0  Aaban      M       4617  41.0            White             1           1   \n",
       "1  Aaban      M        622  53.0  Hispanic, White             4           0   \n",
       "2  Aabha      F       1695  31.0            White             1           1   \n",
       "3  Aabha      F       2983  44.0            White             3           1   \n",
       "4  Aabid      M       3229  24.0            White             0           1   \n",
       "\n",
       "   RACE_Hispanic, White  RACE_Black  RACE_Unknown  RACE_Hispanic, Black  \\\n",
       "0                     0           0             0                     0   \n",
       "1                     1           0             0                     0   \n",
       "2                     0           0             0                     0   \n",
       "3                     0           0             0                     0   \n",
       "4                     0           0             0                     0   \n",
       "\n",
       "   RACE_Other  RACE_Asian, Other  RACE_Asian Indian  RACE_Chinese  \n",
       "0           0                  0                  0             0  \n",
       "1           0                  0                  0             0  \n",
       "2           0                  0                  0             0  \n",
       "3           0                  0                  0             0  \n",
       "4           0                  0                  0             0  "
      ]
     },
     "execution_count": 42,
     "metadata": {},
     "output_type": "execute_result"
    }
   ],
   "source": [
    "\n",
    "\n",
    "# encode X2 into the 10 most frequent categories\n",
    "one_top_x(data, 'RACE', top_10_labels)\n",
    "data.head()"
   ]
  },
  {
   "cell_type": "code",
   "execution_count": 44,
   "id": "53033e3b",
   "metadata": {},
   "outputs": [
    {
     "data": {
      "text/plain": [
       "White              314046\n",
       "Hispanic, White     44069\n",
       "Black               35839\n",
       "Unknown              3046\n",
       "Hispanic, Black      1673\n",
       "Other                1008\n",
       "Asian, Other          168\n",
       "Asian Indian          104\n",
       "Chinese                 8\n",
       "Name: RACE, dtype: int64"
      ]
     },
     "execution_count": 44,
     "metadata": {},
     "output_type": "execute_result"
    }
   ],
   "source": [
    "data['RACE'].value_counts()"
   ]
  },
  {
   "cell_type": "code",
   "execution_count": 45,
   "id": "a94f1fb6",
   "metadata": {},
   "outputs": [
    {
     "data": {
      "text/html": [
       "<div>\n",
       "<style scoped>\n",
       "    .dataframe tbody tr th:only-of-type {\n",
       "        vertical-align: middle;\n",
       "    }\n",
       "\n",
       "    .dataframe tbody tr th {\n",
       "        vertical-align: top;\n",
       "    }\n",
       "\n",
       "    .dataframe thead th {\n",
       "        text-align: right;\n",
       "    }\n",
       "</style>\n",
       "<table border=\"1\" class=\"dataframe\">\n",
       "  <thead>\n",
       "    <tr style=\"text-align: right;\">\n",
       "      <th></th>\n",
       "      <th>NAME</th>\n",
       "      <th>GENDER</th>\n",
       "      <th>DRUG NAME</th>\n",
       "      <th>AGE</th>\n",
       "      <th>RACE</th>\n",
       "      <th>SIDE EFFECTS</th>\n",
       "      <th>RACE_White</th>\n",
       "      <th>RACE_Hispanic, White</th>\n",
       "      <th>RACE_Black</th>\n",
       "      <th>RACE_Unknown</th>\n",
       "      <th>RACE_Hispanic, Black</th>\n",
       "      <th>RACE_Other</th>\n",
       "      <th>RACE_Asian, Other</th>\n",
       "      <th>RACE_Asian Indian</th>\n",
       "      <th>RACE_Chinese</th>\n",
       "    </tr>\n",
       "  </thead>\n",
       "  <tbody>\n",
       "    <tr>\n",
       "      <th>0</th>\n",
       "      <td>Aaban</td>\n",
       "      <td>M</td>\n",
       "      <td>4617</td>\n",
       "      <td>41.0</td>\n",
       "      <td>White</td>\n",
       "      <td>1</td>\n",
       "      <td>1</td>\n",
       "      <td>0</td>\n",
       "      <td>0</td>\n",
       "      <td>0</td>\n",
       "      <td>0</td>\n",
       "      <td>0</td>\n",
       "      <td>0</td>\n",
       "      <td>0</td>\n",
       "      <td>0</td>\n",
       "    </tr>\n",
       "    <tr>\n",
       "      <th>1</th>\n",
       "      <td>Aaban</td>\n",
       "      <td>M</td>\n",
       "      <td>622</td>\n",
       "      <td>53.0</td>\n",
       "      <td>Hispanic, White</td>\n",
       "      <td>4</td>\n",
       "      <td>0</td>\n",
       "      <td>1</td>\n",
       "      <td>0</td>\n",
       "      <td>0</td>\n",
       "      <td>0</td>\n",
       "      <td>0</td>\n",
       "      <td>0</td>\n",
       "      <td>0</td>\n",
       "      <td>0</td>\n",
       "    </tr>\n",
       "    <tr>\n",
       "      <th>2</th>\n",
       "      <td>Aabha</td>\n",
       "      <td>F</td>\n",
       "      <td>1695</td>\n",
       "      <td>31.0</td>\n",
       "      <td>White</td>\n",
       "      <td>1</td>\n",
       "      <td>1</td>\n",
       "      <td>0</td>\n",
       "      <td>0</td>\n",
       "      <td>0</td>\n",
       "      <td>0</td>\n",
       "      <td>0</td>\n",
       "      <td>0</td>\n",
       "      <td>0</td>\n",
       "      <td>0</td>\n",
       "    </tr>\n",
       "    <tr>\n",
       "      <th>3</th>\n",
       "      <td>Aabha</td>\n",
       "      <td>F</td>\n",
       "      <td>2983</td>\n",
       "      <td>44.0</td>\n",
       "      <td>White</td>\n",
       "      <td>3</td>\n",
       "      <td>1</td>\n",
       "      <td>0</td>\n",
       "      <td>0</td>\n",
       "      <td>0</td>\n",
       "      <td>0</td>\n",
       "      <td>0</td>\n",
       "      <td>0</td>\n",
       "      <td>0</td>\n",
       "      <td>0</td>\n",
       "    </tr>\n",
       "    <tr>\n",
       "      <th>4</th>\n",
       "      <td>Aabid</td>\n",
       "      <td>M</td>\n",
       "      <td>3229</td>\n",
       "      <td>24.0</td>\n",
       "      <td>White</td>\n",
       "      <td>0</td>\n",
       "      <td>1</td>\n",
       "      <td>0</td>\n",
       "      <td>0</td>\n",
       "      <td>0</td>\n",
       "      <td>0</td>\n",
       "      <td>0</td>\n",
       "      <td>0</td>\n",
       "      <td>0</td>\n",
       "      <td>0</td>\n",
       "    </tr>\n",
       "  </tbody>\n",
       "</table>\n",
       "</div>"
      ],
      "text/plain": [
       "    NAME GENDER  DRUG NAME   AGE             RACE  SIDE EFFECTS  RACE_White  \\\n",
       "0  Aaban      M       4617  41.0            White             1           1   \n",
       "1  Aaban      M        622  53.0  Hispanic, White             4           0   \n",
       "2  Aabha      F       1695  31.0            White             1           1   \n",
       "3  Aabha      F       2983  44.0            White             3           1   \n",
       "4  Aabid      M       3229  24.0            White             0           1   \n",
       "\n",
       "   RACE_Hispanic, White  RACE_Black  RACE_Unknown  RACE_Hispanic, Black  \\\n",
       "0                     0           0             0                     0   \n",
       "1                     1           0             0                     0   \n",
       "2                     0           0             0                     0   \n",
       "3                     0           0             0                     0   \n",
       "4                     0           0             0                     0   \n",
       "\n",
       "   RACE_Other  RACE_Asian, Other  RACE_Asian Indian  RACE_Chinese  \n",
       "0           0                  0                  0             0  \n",
       "1           0                  0                  0             0  \n",
       "2           0                  0                  0             0  \n",
       "3           0                  0                  0             0  \n",
       "4           0                  0                  0             0  "
      ]
     },
     "execution_count": 45,
     "metadata": {},
     "output_type": "execute_result"
    }
   ],
   "source": [
    "data.head()"
   ]
  },
  {
   "cell_type": "code",
   "execution_count": 46,
   "id": "312e3264",
   "metadata": {},
   "outputs": [],
   "source": [
    "data.drop(columns=['NAME','RACE'],axis=1,inplace=True)"
   ]
  },
  {
   "cell_type": "code",
   "execution_count": 47,
   "id": "a4341c58",
   "metadata": {},
   "outputs": [],
   "source": []
  },
  {
   "cell_type": "markdown",
   "id": "5436e019",
   "metadata": {},
   "source": [
    "# Feature scaling"
   ]
  },
  {
   "cell_type": "code",
   "execution_count": 49,
   "id": "2c0470b6",
   "metadata": {},
   "outputs": [],
   "source": [
    "from sklearn.preprocessing import OneHotEncoder"
   ]
  },
  {
   "cell_type": "code",
   "execution_count": 50,
   "id": "52109eb3",
   "metadata": {},
   "outputs": [],
   "source": [
    "data = pd.get_dummies(data=data, columns=['GENDER'],drop_first=True)"
   ]
  },
  {
   "cell_type": "code",
   "execution_count": 51,
   "id": "15a89601",
   "metadata": {},
   "outputs": [
    {
     "data": {
      "text/html": [
       "<div>\n",
       "<style scoped>\n",
       "    .dataframe tbody tr th:only-of-type {\n",
       "        vertical-align: middle;\n",
       "    }\n",
       "\n",
       "    .dataframe tbody tr th {\n",
       "        vertical-align: top;\n",
       "    }\n",
       "\n",
       "    .dataframe thead th {\n",
       "        text-align: right;\n",
       "    }\n",
       "</style>\n",
       "<table border=\"1\" class=\"dataframe\">\n",
       "  <thead>\n",
       "    <tr style=\"text-align: right;\">\n",
       "      <th></th>\n",
       "      <th>DRUG NAME</th>\n",
       "      <th>AGE</th>\n",
       "      <th>SIDE EFFECTS</th>\n",
       "      <th>RACE_White</th>\n",
       "      <th>RACE_Hispanic, White</th>\n",
       "      <th>RACE_Black</th>\n",
       "      <th>RACE_Unknown</th>\n",
       "      <th>RACE_Hispanic, Black</th>\n",
       "      <th>RACE_Other</th>\n",
       "      <th>RACE_Asian, Other</th>\n",
       "      <th>RACE_Asian Indian</th>\n",
       "      <th>RACE_Chinese</th>\n",
       "      <th>GENDER_M</th>\n",
       "    </tr>\n",
       "  </thead>\n",
       "  <tbody>\n",
       "    <tr>\n",
       "      <th>0</th>\n",
       "      <td>4617</td>\n",
       "      <td>41.0</td>\n",
       "      <td>1</td>\n",
       "      <td>1</td>\n",
       "      <td>0</td>\n",
       "      <td>0</td>\n",
       "      <td>0</td>\n",
       "      <td>0</td>\n",
       "      <td>0</td>\n",
       "      <td>0</td>\n",
       "      <td>0</td>\n",
       "      <td>0</td>\n",
       "      <td>1</td>\n",
       "    </tr>\n",
       "    <tr>\n",
       "      <th>1</th>\n",
       "      <td>622</td>\n",
       "      <td>53.0</td>\n",
       "      <td>4</td>\n",
       "      <td>0</td>\n",
       "      <td>1</td>\n",
       "      <td>0</td>\n",
       "      <td>0</td>\n",
       "      <td>0</td>\n",
       "      <td>0</td>\n",
       "      <td>0</td>\n",
       "      <td>0</td>\n",
       "      <td>0</td>\n",
       "      <td>1</td>\n",
       "    </tr>\n",
       "    <tr>\n",
       "      <th>2</th>\n",
       "      <td>1695</td>\n",
       "      <td>31.0</td>\n",
       "      <td>1</td>\n",
       "      <td>1</td>\n",
       "      <td>0</td>\n",
       "      <td>0</td>\n",
       "      <td>0</td>\n",
       "      <td>0</td>\n",
       "      <td>0</td>\n",
       "      <td>0</td>\n",
       "      <td>0</td>\n",
       "      <td>0</td>\n",
       "      <td>0</td>\n",
       "    </tr>\n",
       "    <tr>\n",
       "      <th>3</th>\n",
       "      <td>2983</td>\n",
       "      <td>44.0</td>\n",
       "      <td>3</td>\n",
       "      <td>1</td>\n",
       "      <td>0</td>\n",
       "      <td>0</td>\n",
       "      <td>0</td>\n",
       "      <td>0</td>\n",
       "      <td>0</td>\n",
       "      <td>0</td>\n",
       "      <td>0</td>\n",
       "      <td>0</td>\n",
       "      <td>0</td>\n",
       "    </tr>\n",
       "    <tr>\n",
       "      <th>4</th>\n",
       "      <td>3229</td>\n",
       "      <td>24.0</td>\n",
       "      <td>0</td>\n",
       "      <td>1</td>\n",
       "      <td>0</td>\n",
       "      <td>0</td>\n",
       "      <td>0</td>\n",
       "      <td>0</td>\n",
       "      <td>0</td>\n",
       "      <td>0</td>\n",
       "      <td>0</td>\n",
       "      <td>0</td>\n",
       "      <td>1</td>\n",
       "    </tr>\n",
       "  </tbody>\n",
       "</table>\n",
       "</div>"
      ],
      "text/plain": [
       "   DRUG NAME   AGE  SIDE EFFECTS  RACE_White  RACE_Hispanic, White  \\\n",
       "0       4617  41.0             1           1                     0   \n",
       "1        622  53.0             4           0                     1   \n",
       "2       1695  31.0             1           1                     0   \n",
       "3       2983  44.0             3           1                     0   \n",
       "4       3229  24.0             0           1                     0   \n",
       "\n",
       "   RACE_Black  RACE_Unknown  RACE_Hispanic, Black  RACE_Other  \\\n",
       "0           0             0                     0           0   \n",
       "1           0             0                     0           0   \n",
       "2           0             0                     0           0   \n",
       "3           0             0                     0           0   \n",
       "4           0             0                     0           0   \n",
       "\n",
       "   RACE_Asian, Other  RACE_Asian Indian  RACE_Chinese  GENDER_M  \n",
       "0                  0                  0             0         1  \n",
       "1                  0                  0             0         1  \n",
       "2                  0                  0             0         0  \n",
       "3                  0                  0             0         0  \n",
       "4                  0                  0             0         1  "
      ]
     },
     "execution_count": 51,
     "metadata": {},
     "output_type": "execute_result"
    }
   ],
   "source": [
    "data.head()"
   ]
  },
  {
   "cell_type": "markdown",
   "id": "101ca38b",
   "metadata": {},
   "source": [
    "# Split the data"
   ]
  },
  {
   "cell_type": "code",
   "execution_count": 53,
   "id": "3015d73f",
   "metadata": {},
   "outputs": [],
   "source": [
    "X = data.drop(['SIDE EFFECTS'], axis=1)\n",
    "y= data['SIDE EFFECTS']"
   ]
  },
  {
   "cell_type": "code",
   "execution_count": 54,
   "id": "fd74a89f",
   "metadata": {},
   "outputs": [],
   "source": [
    "from sklearn.pipeline import Pipeline\n",
    "from sklearn.preprocessing import StandardScaler\n",
    "from sklearn.metrics import mean_squared_error as mse\n",
    "from sklearn.metrics import r2_score as r2\n",
    "from sklearn import metrics\n",
    "from sklearn.metrics import accuracy_score, precision_score, recall_score, f1_score\n",
    "from sklearn.tree import DecisionTreeClassifier\n",
    "from sklearn.linear_model import LogisticRegression\n",
    "from sklearn.ensemble import RandomForestClassifier \n",
    "from sklearn.neighbors import KNeighborsClassifier"
   ]
  },
  {
   "cell_type": "code",
   "execution_count": 55,
   "id": "d47a8424",
   "metadata": {},
   "outputs": [],
   "source": [
    "from sklearn.model_selection import train_test_split\n",
    "X_train,X_test,y_train,y_test = train_test_split(X,y,test_size = 0.2, random_state=42)"
   ]
  },
  {
   "cell_type": "code",
   "execution_count": 56,
   "id": "0747570a",
   "metadata": {},
   "outputs": [],
   "source": [
    "pipeline_lr=Pipeline([('scalar1',StandardScaler()),\n",
    "                     ('lr_classifier',LogisticRegression(random_state=0))])"
   ]
  },
  {
   "cell_type": "code",
   "execution_count": 57,
   "id": "cc8d1108",
   "metadata": {},
   "outputs": [],
   "source": [
    "pipeline_KNN_Classifier=Pipeline([('scalar3',StandardScaler()),\n",
    "                     ('Knnf_classifier',KNeighborsClassifier(n_neighbors = 5, metric = 'minkowski', p = 2))])"
   ]
  },
  {
   "cell_type": "code",
   "execution_count": 58,
   "id": "7ac7e7de",
   "metadata": {},
   "outputs": [],
   "source": [
    "pipeline_randomforest=Pipeline([('scalar3',StandardScaler()),\n",
    "                     ('rf_classifier',RandomForestClassifier())])"
   ]
  },
  {
   "cell_type": "code",
   "execution_count": 59,
   "id": "0e06dc97",
   "metadata": {},
   "outputs": [],
   "source": [
    "pipeline_dt=Pipeline([('scalar2',StandardScaler()),\n",
    "                     ('dt_classifier',DecisionTreeClassifier())])"
   ]
  },
  {
   "cell_type": "code",
   "execution_count": 60,
   "id": "192ba571",
   "metadata": {},
   "outputs": [],
   "source": [
    "## LEts make the list of pipelines\n",
    "pipelines = [pipeline_lr,pipeline_KNN_Classifier,pipeline_randomforest,pipeline_dt]"
   ]
  },
  {
   "cell_type": "code",
   "execution_count": 61,
   "id": "dfaa9c6e",
   "metadata": {},
   "outputs": [],
   "source": [
    "best_accuracy=0.0\n",
    "best_classifier=0\n",
    "best_pipeline=\"\""
   ]
  },
  {
   "cell_type": "code",
   "execution_count": 62,
   "id": "aabe098b",
   "metadata": {},
   "outputs": [],
   "source": [
    "# Dictionary of pipelines and classifier types for ease of reference\n",
    "pipe_dict = {0: 'Logistic Classifier', 1: 'KNN Classifier', 2: 'RandomForest Classifier',3:'Decision Classifier'}\n",
    "\n",
    "# Fit the pipelines\n",
    "for pipe in pipelines:\n",
    "\tpipe.fit(X_train, y_train)"
   ]
  },
  {
   "cell_type": "code",
   "execution_count": 63,
   "id": "9d8a190f",
   "metadata": {},
   "outputs": [
    {
     "name": "stdout",
     "output_type": "stream",
     "text": [
      "Logistic Classifier Test Accuracy: 0.36628204967934697\n",
      "KNN Classifier Test Accuracy: 0.9724975935394347\n",
      "RandomForest Classifier Test Accuracy: 0.9798857400022501\n",
      "Decision Classifier Test Accuracy: 0.9804732914129987\n"
     ]
    }
   ],
   "source": [
    "for i,model in enumerate(pipelines):\n",
    "    print(\"{} Test Accuracy: {}\".format(pipe_dict[i],model.score(X_test,y_test)))"
   ]
  },
  {
   "cell_type": "code",
   "execution_count": 64,
   "id": "e71febe8",
   "metadata": {},
   "outputs": [
    {
     "name": "stdout",
     "output_type": "stream",
     "text": [
      "Classifier with best accuracy:Decision Classifier\n"
     ]
    }
   ],
   "source": [
    "for i,model in enumerate(pipelines):\n",
    "    if model.score(X_test,y_test)>best_accuracy:\n",
    "        best_accuracy=model.score(X_test,y_test)\n",
    "        best_pipeline=model\n",
    "        best_classifier=i\n",
    "print('Classifier with best accuracy:{}'.format(pipe_dict[best_classifier]))"
   ]
  },
  {
   "cell_type": "code",
   "execution_count": 65,
   "id": "812046ee",
   "metadata": {},
   "outputs": [],
   "source": [
    "from sklearn import set_config\n",
    "set_config(display='diagram')"
   ]
  },
  {
   "cell_type": "code",
   "execution_count": 66,
   "id": "bb98b545",
   "metadata": {},
   "outputs": [
    {
     "data": {
      "text/html": [
       "<style>#sk-0614c86f-c32e-441e-af16-debddc3b1f83 {color: black;background-color: white;}#sk-0614c86f-c32e-441e-af16-debddc3b1f83 pre{padding: 0;}#sk-0614c86f-c32e-441e-af16-debddc3b1f83 div.sk-toggleable {background-color: white;}#sk-0614c86f-c32e-441e-af16-debddc3b1f83 label.sk-toggleable__label {cursor: pointer;display: block;width: 100%;margin-bottom: 0;padding: 0.2em 0.3em;box-sizing: border-box;text-align: center;}#sk-0614c86f-c32e-441e-af16-debddc3b1f83 div.sk-toggleable__content {max-height: 0;max-width: 0;overflow: hidden;text-align: left;background-color: #f0f8ff;}#sk-0614c86f-c32e-441e-af16-debddc3b1f83 div.sk-toggleable__content pre {margin: 0.2em;color: black;border-radius: 0.25em;background-color: #f0f8ff;}#sk-0614c86f-c32e-441e-af16-debddc3b1f83 input.sk-toggleable__control:checked~div.sk-toggleable__content {max-height: 200px;max-width: 100%;overflow: auto;}#sk-0614c86f-c32e-441e-af16-debddc3b1f83 div.sk-estimator input.sk-toggleable__control:checked~label.sk-toggleable__label {background-color: #d4ebff;}#sk-0614c86f-c32e-441e-af16-debddc3b1f83 div.sk-label input.sk-toggleable__control:checked~label.sk-toggleable__label {background-color: #d4ebff;}#sk-0614c86f-c32e-441e-af16-debddc3b1f83 input.sk-hidden--visually {border: 0;clip: rect(1px 1px 1px 1px);clip: rect(1px, 1px, 1px, 1px);height: 1px;margin: -1px;overflow: hidden;padding: 0;position: absolute;width: 1px;}#sk-0614c86f-c32e-441e-af16-debddc3b1f83 div.sk-estimator {font-family: monospace;background-color: #f0f8ff;margin: 0.25em 0.25em;border: 1px dotted black;border-radius: 0.25em;box-sizing: border-box;}#sk-0614c86f-c32e-441e-af16-debddc3b1f83 div.sk-estimator:hover {background-color: #d4ebff;}#sk-0614c86f-c32e-441e-af16-debddc3b1f83 div.sk-parallel-item::after {content: \"\";width: 100%;border-bottom: 1px solid gray;flex-grow: 1;}#sk-0614c86f-c32e-441e-af16-debddc3b1f83 div.sk-label:hover label.sk-toggleable__label {background-color: #d4ebff;}#sk-0614c86f-c32e-441e-af16-debddc3b1f83 div.sk-serial::before {content: \"\";position: absolute;border-left: 1px solid gray;box-sizing: border-box;top: 2em;bottom: 0;left: 50%;}#sk-0614c86f-c32e-441e-af16-debddc3b1f83 div.sk-serial {display: flex;flex-direction: column;align-items: center;background-color: white;}#sk-0614c86f-c32e-441e-af16-debddc3b1f83 div.sk-item {z-index: 1;}#sk-0614c86f-c32e-441e-af16-debddc3b1f83 div.sk-parallel {display: flex;align-items: stretch;justify-content: center;background-color: white;}#sk-0614c86f-c32e-441e-af16-debddc3b1f83 div.sk-parallel-item {display: flex;flex-direction: column;position: relative;background-color: white;}#sk-0614c86f-c32e-441e-af16-debddc3b1f83 div.sk-parallel-item:first-child::after {align-self: flex-end;width: 50%;}#sk-0614c86f-c32e-441e-af16-debddc3b1f83 div.sk-parallel-item:last-child::after {align-self: flex-start;width: 50%;}#sk-0614c86f-c32e-441e-af16-debddc3b1f83 div.sk-parallel-item:only-child::after {width: 0;}#sk-0614c86f-c32e-441e-af16-debddc3b1f83 div.sk-dashed-wrapped {border: 1px dashed gray;margin: 0.2em;box-sizing: border-box;padding-bottom: 0.1em;background-color: white;position: relative;}#sk-0614c86f-c32e-441e-af16-debddc3b1f83 div.sk-label label {font-family: monospace;font-weight: bold;background-color: white;display: inline-block;line-height: 1.2em;}#sk-0614c86f-c32e-441e-af16-debddc3b1f83 div.sk-label-container {position: relative;z-index: 2;text-align: center;}#sk-0614c86f-c32e-441e-af16-debddc3b1f83 div.sk-container {display: inline-block;position: relative;}</style><div id=\"sk-0614c86f-c32e-441e-af16-debddc3b1f83\" class\"sk-top-container\"><div class=\"sk-container\"><div class=\"sk-item sk-dashed-wrapped\"><div class=\"sk-label-container\"><div class=\"sk-label sk-toggleable\"><input class=\"sk-toggleable__control sk-hidden--visually\" id=\"62a1088e-9001-4277-989a-c7655af647b0\" type=\"checkbox\" ><label class=\"sk-toggleable__label\" for=\"62a1088e-9001-4277-989a-c7655af647b0\">Pipeline</label><div class=\"sk-toggleable__content\"><pre>Pipeline(steps=[('scalar2', StandardScaler()),\n",
       "                ('dt_classifier', DecisionTreeClassifier())])</pre></div></div></div><div class=\"sk-serial\"><div class=\"sk-item\"><div class=\"sk-estimator sk-toggleable\"><input class=\"sk-toggleable__control sk-hidden--visually\" id=\"7a6f7465-78ed-4cc6-84ad-be537b16e916\" type=\"checkbox\" ><label class=\"sk-toggleable__label\" for=\"7a6f7465-78ed-4cc6-84ad-be537b16e916\">StandardScaler</label><div class=\"sk-toggleable__content\"><pre>StandardScaler()</pre></div></div></div><div class=\"sk-item\"><div class=\"sk-estimator sk-toggleable\"><input class=\"sk-toggleable__control sk-hidden--visually\" id=\"716ecadd-a88e-455b-82fa-2b5542ce62ca\" type=\"checkbox\" ><label class=\"sk-toggleable__label\" for=\"716ecadd-a88e-455b-82fa-2b5542ce62ca\">DecisionTreeClassifier</label><div class=\"sk-toggleable__content\"><pre>DecisionTreeClassifier()</pre></div></div></div></div></div></div></div>"
      ],
      "text/plain": [
       "Pipeline(steps=[('scalar2', StandardScaler()),\n",
       "                ('dt_classifier', DecisionTreeClassifier())])"
      ]
     },
     "execution_count": 66,
     "metadata": {},
     "output_type": "execute_result"
    }
   ],
   "source": [
    "pipe"
   ]
  },
  {
   "cell_type": "markdown",
   "id": "cec6e81c",
   "metadata": {},
   "source": [
    "### Finally Got the classifiaction model.Which is Decision tree classifier for classifying the side-effect of drugs."
   ]
  },
  {
   "cell_type": "code",
   "execution_count": null,
   "id": "c3500ee4",
   "metadata": {},
   "outputs": [],
   "source": []
  }
 ],
 "metadata": {
  "kernelspec": {
   "display_name": "Python 3 (ipykernel)",
   "language": "python",
   "name": "python3"
  },
  "language_info": {
   "codemirror_mode": {
    "name": "ipython",
    "version": 3
   },
   "file_extension": ".py",
   "mimetype": "text/x-python",
   "name": "python",
   "nbconvert_exporter": "python",
   "pygments_lexer": "ipython3",
   "version": "3.9.7"
  }
 },
 "nbformat": 4,
 "nbformat_minor": 5
}
